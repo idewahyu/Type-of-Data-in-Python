{
  "nbformat": 4,
  "nbformat_minor": 0,
  "metadata": {
    "colab": {
      "name": "Type Data Python",
      "provenance": []
    },
    "kernelspec": {
      "name": "python3",
      "display_name": "Python 3"
    }
  },
  "cells": [
    {
      "cell_type": "code",
      "execution_count": 1,
      "metadata": {
        "id": "iXYhOret8f35"
      },
      "outputs": [],
      "source": [
        "Bakwan = 10 "
      ]
    },
    {
      "cell_type": "code",
      "source": [
        "type(Bakwan)"
      ],
      "metadata": {
        "colab": {
          "base_uri": "https://localhost:8080/"
        },
        "id": "tyVC0pUW9MDO",
        "outputId": "a3f215b7-40e6-411b-d4f9-35ef988aec06"
      },
      "execution_count": 6,
      "outputs": [
        {
          "output_type": "execute_result",
          "data": {
            "text/plain": [
              "int"
            ]
          },
          "metadata": {},
          "execution_count": 6
        }
      ]
    },
    {
      "cell_type": "code",
      "source": [
        "print(Bakwan)"
      ],
      "metadata": {
        "colab": {
          "base_uri": "https://localhost:8080/"
        },
        "id": "RZlukH4z9OnS",
        "outputId": "f1a4f34c-72b8-4839-c8f7-1b7d4273604f"
      },
      "execution_count": 7,
      "outputs": [
        {
          "output_type": "stream",
          "name": "stdout",
          "text": [
            "10\n"
          ]
        }
      ]
    },
    {
      "cell_type": "code",
      "source": [
        "lingkar_perut = 89.07"
      ],
      "metadata": {
        "id": "qnfDHiwv9xKm"
      },
      "execution_count": 9,
      "outputs": []
    },
    {
      "cell_type": "code",
      "source": [
        "type(lingkar_perut)"
      ],
      "metadata": {
        "colab": {
          "base_uri": "https://localhost:8080/"
        },
        "id": "6CwIIX_a-HbM",
        "outputId": "bfe4642f-a779-4900-bc39-618e0ea3f564"
      },
      "execution_count": 12,
      "outputs": [
        {
          "output_type": "execute_result",
          "data": {
            "text/plain": [
              "float"
            ]
          },
          "metadata": {},
          "execution_count": 12
        }
      ]
    },
    {
      "cell_type": "code",
      "source": [
        "print(lingkar_perut)"
      ],
      "metadata": {
        "colab": {
          "base_uri": "https://localhost:8080/"
        },
        "id": "4sbjr5PS-T1x",
        "outputId": "fa9fb48d-eb09-455a-cdce-423d15167231"
      },
      "execution_count": 13,
      "outputs": [
        {
          "output_type": "stream",
          "name": "stdout",
          "text": [
            "89.07\n"
          ]
        }
      ]
    },
    {
      "cell_type": "code",
      "source": [
        "mendoanalot_5 = 4 -6j"
      ],
      "metadata": {
        "id": "kSGGNosk-X2k"
      },
      "execution_count": 14,
      "outputs": []
    },
    {
      "cell_type": "code",
      "source": [
        "type(mendoanalot_5)"
      ],
      "metadata": {
        "colab": {
          "base_uri": "https://localhost:8080/"
        },
        "id": "gsuDeVRt-dmh",
        "outputId": "51d2a23f-8022-4f7f-e54c-24ea9ea7cc1a"
      },
      "execution_count": 15,
      "outputs": [
        {
          "output_type": "execute_result",
          "data": {
            "text/plain": [
              "complex"
            ]
          },
          "metadata": {},
          "execution_count": 15
        }
      ]
    },
    {
      "cell_type": "code",
      "source": [
        "print(mendoanalot_5)"
      ],
      "metadata": {
        "colab": {
          "base_uri": "https://localhost:8080/"
        },
        "id": "wEKQH2s--d5g",
        "outputId": "5a79dd08-43a3-4e18-997d-3d7de967d458"
      },
      "execution_count": 16,
      "outputs": [
        {
          "output_type": "stream",
          "name": "stdout",
          "text": [
            "(4-6j)\n"
          ]
        }
      ]
    },
    {
      "cell_type": "code",
      "source": [
        "a = \"uler sawah\""
      ],
      "metadata": {
        "id": "VeWGDv2o-mtN"
      },
      "execution_count": 17,
      "outputs": []
    },
    {
      "cell_type": "code",
      "source": [
        "type(a)"
      ],
      "metadata": {
        "colab": {
          "base_uri": "https://localhost:8080/"
        },
        "id": "ljcXL4rY-mpo",
        "outputId": "0fb03ecb-97ec-4c80-9012-9af7a19fce75"
      },
      "execution_count": 18,
      "outputs": [
        {
          "output_type": "execute_result",
          "data": {
            "text/plain": [
              "str"
            ]
          },
          "metadata": {},
          "execution_count": 18
        }
      ]
    },
    {
      "cell_type": "code",
      "source": [
        "print (a)"
      ],
      "metadata": {
        "colab": {
          "base_uri": "https://localhost:8080/"
        },
        "id": "oMeYRWQ--0er",
        "outputId": "3ada2ed0-3004-49fc-a500-37c9209a035f"
      },
      "execution_count": 19,
      "outputs": [
        {
          "output_type": "stream",
          "name": "stdout",
          "text": [
            "uler sawah\n"
          ]
        }
      ]
    },
    {
      "cell_type": "code",
      "source": [
        "b = 'belut sawah'"
      ],
      "metadata": {
        "id": "a96V41PJ-4xb"
      },
      "execution_count": 20,
      "outputs": []
    },
    {
      "cell_type": "code",
      "source": [
        "type(b)"
      ],
      "metadata": {
        "colab": {
          "base_uri": "https://localhost:8080/"
        },
        "id": "sXowK8lN-9TS",
        "outputId": "650716d2-42e2-4052-a761-c5765b4be3cf"
      },
      "execution_count": 21,
      "outputs": [
        {
          "output_type": "execute_result",
          "data": {
            "text/plain": [
              "str"
            ]
          },
          "metadata": {},
          "execution_count": 21
        }
      ]
    },
    {
      "cell_type": "code",
      "source": [
        "print(b)"
      ],
      "metadata": {
        "colab": {
          "base_uri": "https://localhost:8080/"
        },
        "id": "rWw6zqUG_Ay5",
        "outputId": "0f65d64c-4e7a-493a-c753-1ba94e1dc566"
      },
      "execution_count": 22,
      "outputs": [
        {
          "output_type": "stream",
          "name": "stdout",
          "text": [
            "belut sawah\n"
          ]
        }
      ]
    },
    {
      "cell_type": "code",
      "source": [
        "a = \"\"\"uler \n",
        "melingker-lingker \n",
        "diatas pager\"\"\""
      ],
      "metadata": {
        "id": "j8C53FrQ_D5p"
      },
      "execution_count": 23,
      "outputs": []
    },
    {
      "cell_type": "code",
      "source": [
        "type (a)"
      ],
      "metadata": {
        "colab": {
          "base_uri": "https://localhost:8080/"
        },
        "id": "m_Q3usm2_NzB",
        "outputId": "b9142d9f-8bf2-4199-a7db-223ad9557281"
      },
      "execution_count": 24,
      "outputs": [
        {
          "output_type": "execute_result",
          "data": {
            "text/plain": [
              "str"
            ]
          },
          "metadata": {},
          "execution_count": 24
        }
      ]
    },
    {
      "cell_type": "code",
      "source": [
        "print (a)"
      ],
      "metadata": {
        "colab": {
          "base_uri": "https://localhost:8080/"
        },
        "id": "yOkzqW4K_QV7",
        "outputId": "71c91aca-c166-4741-cf06-390b7e63ce6f"
      },
      "execution_count": 25,
      "outputs": [
        {
          "output_type": "stream",
          "name": "stdout",
          "text": [
            "uler \n",
            "melingker-lingker \n",
            "diatas pager\n"
          ]
        }
      ]
    },
    {
      "cell_type": "code",
      "source": [
        "a"
      ],
      "metadata": {
        "colab": {
          "base_uri": "https://localhost:8080/",
          "height": 35
        },
        "id": "y3X0FrkfAFMt",
        "outputId": "95e0d66e-15d0-4722-a279-e57fcab0af5a"
      },
      "execution_count": 28,
      "outputs": [
        {
          "output_type": "execute_result",
          "data": {
            "text/plain": [
              "'uler \\nmelingker-lingker \\ndiatas pager'"
            ],
            "application/vnd.google.colaboratory.intrinsic+json": {
              "type": "string"
            }
          },
          "metadata": {},
          "execution_count": 28
        }
      ]
    },
    {
      "cell_type": "code",
      "source": [
        "print (\"KAMU \\nAKU \\nKUA\")"
      ],
      "metadata": {
        "colab": {
          "base_uri": "https://localhost:8080/"
        },
        "id": "ori-lnKA_rKm",
        "outputId": "d9c5444e-6fc6-44c4-b6fc-fdd41b562fc2"
      },
      "execution_count": 29,
      "outputs": [
        {
          "output_type": "stream",
          "name": "stdout",
          "text": [
            "KAMU \n",
            "AKU \n",
            "KUA\n"
          ]
        }
      ]
    },
    {
      "cell_type": "code",
      "source": [
        "print (\"\"\"lihatkamu \\ndengan \\nyanglain :(\"\"\")"
      ],
      "metadata": {
        "colab": {
          "base_uri": "https://localhost:8080/"
        },
        "id": "KMch8ox7AQII",
        "outputId": "c4ca40d7-680b-4517-c53a-a14c43601058"
      },
      "execution_count": 32,
      "outputs": [
        {
          "output_type": "stream",
          "name": "stdout",
          "text": [
            "lihatkamu \n",
            "dengan \n",
            "yanglain :(\n"
          ]
        }
      ]
    },
    {
      "cell_type": "code",
      "source": [
        "berdiskusi_sampai_menemukan_solusi = False"
      ],
      "metadata": {
        "id": "FkwmZ1OoDB3y"
      },
      "execution_count": 35,
      "outputs": []
    },
    {
      "cell_type": "code",
      "source": [
        "print (berdiskusi_sampai_menemukan_solusi)"
      ],
      "metadata": {
        "colab": {
          "base_uri": "https://localhost:8080/"
        },
        "id": "NtFunJcTDrDN",
        "outputId": "d446d0b8-5bb5-4455-8b2d-834d9065a1d8"
      },
      "execution_count": 38,
      "outputs": [
        {
          "output_type": "stream",
          "name": "stdout",
          "text": [
            "False\n"
          ]
        }
      ]
    },
    {
      "cell_type": "code",
      "source": [
        "lelaki_selalu_salah = True"
      ],
      "metadata": {
        "id": "YgaWh9hZDgOA"
      },
      "execution_count": 37,
      "outputs": []
    },
    {
      "cell_type": "code",
      "source": [
        "print (lelaki_selalu_salah)"
      ],
      "metadata": {
        "colab": {
          "base_uri": "https://localhost:8080/"
        },
        "id": "LFpoPDuFDnbD",
        "outputId": "292daa1c-36ca-470b-c4ba-24219d689617"
      },
      "execution_count": 39,
      "outputs": [
        {
          "output_type": "stream",
          "name": "stdout",
          "text": [
            "True\n"
          ]
        }
      ]
    }
  ]
}